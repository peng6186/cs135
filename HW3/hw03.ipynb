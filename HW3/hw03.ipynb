{
 "cells": [
  {
   "cell_type": "markdown",
   "metadata": {},
   "source": [
    "## HW03 Code\n",
    "\n",
    "\n",
    "You will complete the following notebook, as described in the PDF for Homework 03 (included in the download with the starter code).  You will submit:\n",
    "1. This notebook file, along with your COLLABORATORS.txt file, to the Gradescope link for code.\n",
    "2. A PDF of this notebook and all of its output, once it is completed, to the Gradescope link for the PDF.\n",
    "\n",
    "\n",
    "Please report any questions to the [class Piazza page](piazza.com/tufts/summer2021/cs135).\n",
    "\n",
    "### Import required libraries."
   ]
  },
  {
   "cell_type": "code",
   "execution_count": 145,
   "metadata": {},
   "outputs": [],
   "source": [
    "import os\n",
    "import numpy as np\n",
    "import pandas as pd\n",
    "\n",
    "import warnings\n",
    "\n",
    "import sklearn.linear_model\n",
    "import sklearn.metrics\n",
    "import sklearn.calibration\n",
    "\n",
    "from matplotlib import pyplot as plt\n",
    "import seaborn as sns\n",
    "%matplotlib inline\n",
    "plt.style.use('seaborn') # pretty matplotlib plots"
   ]
  },
  {
   "cell_type": "markdown",
   "metadata": {},
   "source": [
    "### Function for later use\n",
    "This function will compute and return a confusion matrix on data, given probabilistic predictions, and a threshold to use when converting probabilities to \"firm\" predictions.\n",
    "\n",
    "***Don't change this function.***"
   ]
  },
  {
   "cell_type": "code",
   "execution_count": 146,
   "metadata": {},
   "outputs": [],
   "source": [
    "def calc_confusion_matrix_for_threshold(ytrue_N, yproba1_N, thresh=0.5):\n",
    "    ''' Compute the confusion matrix for a given probabilistic classifier and threshold\n",
    "    \n",
    "    Args\n",
    "    ----\n",
    "    ytrue_N : 1D array of floats\n",
    "        Each entry represents the binary value (0 or 1) of 'true' label of one example\n",
    "        One entry per example in current dataset\n",
    "    yproba1_N : 1D array of floats\n",
    "        Each entry represents a probability (between 0 and 1) that correct label is positive (1)\n",
    "        One entry per example in current dataset\n",
    "        Needs to be same size as ytrue_N\n",
    "    thresh : float\n",
    "        Scalar threshold for converting probabilities into hard decisions\n",
    "        Calls an example \"positive\" if yproba1 >= thresh\n",
    "        Default value reflects a majority-classification approach (class is the one that gets\n",
    "        highest probability)\n",
    "\n",
    "    Returns\n",
    "    -------\n",
    "    cm_df : Pandas DataFrame\n",
    "        Can be printed like print(cm_df) to easily display results\n",
    "    '''\n",
    "    cm = sklearn.metrics.confusion_matrix(ytrue_N, yproba1_N >= thresh)\n",
    "    cm_df = pd.DataFrame(data=cm, columns=[0, 1], index=[0, 1])\n",
    "    cm_df.columns.name = 'Predicted'\n",
    "    cm_df.index.name = 'True'\n",
    "    return cm_df\n"
   ]
  },
  {
   "cell_type": "markdown",
   "metadata": {},
   "source": [
    "## Cancer-Risk Screening\n",
    "\n",
    "### 1: Compute true/false positives/negatives.\n",
    "\n",
    "Complete the following code."
   ]
  },
  {
   "cell_type": "code",
   "execution_count": 147,
   "metadata": {},
   "outputs": [],
   "source": [
    "def calc_TP_TN_FP_FN(ytrue_N, yhat_N):\n",
    "    '''\n",
    "    \n",
    "    Args\n",
    "    ----\n",
    "    ytrue_N : 1D array of floats\n",
    "        Each entry represents the binary value (0 or 1) of 'true' label of one example\n",
    "        One entry per example in current dataset\n",
    "    yhat_N : 1D array of floats\n",
    "        Each entry represents a predicted binary value (either 0 or 1).\n",
    "        One entry per example in current dataset.\n",
    "        Needs to be same size as ytrue_N.\n",
    "\n",
    "    Returns\n",
    "    -------\n",
    "    TP : int\n",
    "        Number of true positives\n",
    "    TN : int\n",
    "        Number of true negatives\n",
    "    FP : int\n",
    "        Number of false positives\n",
    "    FN : int\n",
    "        Number of false negatives\n",
    "    '''\n",
    "    \n",
    "    TP = 0.0\n",
    "    TN = 0.0\n",
    "    FP = 0.0\n",
    "    FN = 0.0\n",
    "    for idx in range(len(ytrue_N)):\n",
    "        if (ytrue_N[idx] == 1 and yhat_N[idx] == 1):\n",
    "            TP += 1\n",
    "        elif (ytrue_N[idx] == 0 and yhat_N[idx] == 0):\n",
    "            TN += 1\n",
    "        elif (ytrue_N[idx] == 1 and yhat_N[idx] == 0):\n",
    "            FN += 1\n",
    "        elif (ytrue_N[idx] == 0 and yhat_N[idx] == 1):\n",
    "            FP += 1\n",
    "    return TP, TN, FP, FN\n",
    "\n"
   ]
  },
  {
   "cell_type": "markdown",
   "metadata": {},
   "source": [
    "#### Testing code\n",
    "The following four calls to the function above test your results.  ***Don't modify this.***"
   ]
  },
  {
   "cell_type": "code",
   "execution_count": 148,
   "metadata": {},
   "outputs": [
    {
     "data": {
      "text/plain": [
       "(0.0, 0.0, 10.0, 0.0)"
      ]
     },
     "execution_count": 148,
     "metadata": {},
     "output_type": "execute_result"
    }
   ],
   "source": [
    "all0 = np.zeros(10)\n",
    "all1 = np.ones(10)\n",
    "calc_TP_TN_FP_FN(all0, all1)"
   ]
  },
  {
   "cell_type": "code",
   "execution_count": 149,
   "metadata": {},
   "outputs": [
    {
     "data": {
      "text/plain": [
       "(0.0, 0.0, 0.0, 10.0)"
      ]
     },
     "execution_count": 149,
     "metadata": {},
     "output_type": "execute_result"
    }
   ],
   "source": [
    "calc_TP_TN_FP_FN(all1, all0)"
   ]
  },
  {
   "cell_type": "code",
   "execution_count": 150,
   "metadata": {},
   "outputs": [
    {
     "data": {
      "text/plain": [
       "(10.0, 0.0, 0.0, 0.0)"
      ]
     },
     "execution_count": 150,
     "metadata": {},
     "output_type": "execute_result"
    }
   ],
   "source": [
    "calc_TP_TN_FP_FN(all1, all1)"
   ]
  },
  {
   "cell_type": "code",
   "execution_count": 151,
   "metadata": {},
   "outputs": [
    {
     "data": {
      "text/plain": [
       "(0.0, 10.0, 0.0, 0.0)"
      ]
     },
     "execution_count": 151,
     "metadata": {},
     "output_type": "execute_result"
    }
   ],
   "source": [
    "calc_TP_TN_FP_FN(all0, all0)"
   ]
  },
  {
   "cell_type": "markdown",
   "metadata": {},
   "source": [
    "### Load the dataset.\n",
    "\n",
    "The following should ***not*** be modified.  After it runs, the various arrays it creates will contain the 2- or 3-feature input datasets."
   ]
  },
  {
   "cell_type": "code",
   "execution_count": 152,
   "metadata": {},
   "outputs": [],
   "source": [
    "# Load the x-data and y-class arrays\n",
    "x_train = np.loadtxt('./data_cancer/x_train.csv', delimiter=',', skiprows=1)\n",
    "x_test = np.loadtxt('./data_cancer/x_test.csv', delimiter=',', skiprows=1)\n",
    "\n",
    "y_train = np.loadtxt('./data_cancer/y_train.csv', delimiter=',', skiprows=1)\n",
    "y_test = np.loadtxt('./data_cancer/y_test.csv', delimiter=',', skiprows=1)"
   ]
  },
  {
   "cell_type": "markdown",
   "metadata": {},
   "source": [
    "### 2: Compute the fraction of patients with cancer.\n",
    "\n",
    "Complete the following code.  Your solution needs to ***compute*** these values from the training and testing sets (i.e., don't simply hand-count and print the values)."
   ]
  },
  {
   "cell_type": "code",
   "execution_count": 153,
   "metadata": {},
   "outputs": [
    {
     "name": "stdout",
     "output_type": "stream",
     "text": [
      "Fraction of data that has_cancer on TRAIN: 0.140\n",
      "fraction of data that has_cancer on TEST : 0.139\n"
     ]
    }
   ],
   "source": [
    "acc_train = (y_train == 1).sum()  / y_train.size\n",
    "acc_test = (y_test == 1).sum()  / y_test.size\n",
    "print(\"Fraction of data that has_cancer on TRAIN: %.3f\" % acc_train) #TODO: modify these prints\n",
    "print(\"fraction of data that has_cancer on TEST : %.3f\" % acc_test)"
   ]
  },
  {
   "cell_type": "markdown",
   "metadata": {},
   "source": [
    "### 3: The predict-0-always baseline\n",
    "\n",
    "#### (a) Compute the accuracy of the always-0 classifier.\n",
    "\n",
    "Complete the code to compute and print the accuracy of the always-0 classifier on validation and test outputs."
   ]
  },
  {
   "cell_type": "code",
   "execution_count": 154,
   "metadata": {},
   "outputs": [
    {
     "name": "stdout",
     "output_type": "stream",
     "text": [
      "acc on TRAIN: 0.860\n",
      "acc on TEST : 0.861\n"
     ]
    }
   ],
   "source": [
    "acc_always0_train = (y_train == 0).sum() /y_train.size\n",
    "acc_always0_test = (y_test == 0).sum() /y_test.size\n",
    "\n",
    "print(\"acc on TRAIN: %.3f\" % acc_always0_train) #TODO: modify these values\n",
    "print(\"acc on TEST : %.3f\" % acc_always0_test)"
   ]
  },
  {
   "cell_type": "markdown",
   "metadata": {},
   "source": [
    "#### (b) Print a confusion matrix for the always-0 classifier.\n",
    "\n",
    "Add code below to generate a confusion matrix for the always-0 classifier on the test set."
   ]
  },
  {
   "cell_type": "code",
   "execution_count": 155,
   "metadata": {},
   "outputs": [
    {
     "data": {
      "text/html": [
       "<div>\n",
       "<style scoped>\n",
       "    .dataframe tbody tr th:only-of-type {\n",
       "        vertical-align: middle;\n",
       "    }\n",
       "\n",
       "    .dataframe tbody tr th {\n",
       "        vertical-align: top;\n",
       "    }\n",
       "\n",
       "    .dataframe thead th {\n",
       "        text-align: right;\n",
       "    }\n",
       "</style>\n",
       "<table border=\"1\" class=\"dataframe\">\n",
       "  <thead>\n",
       "    <tr style=\"text-align: right;\">\n",
       "      <th>Predicted</th>\n",
       "      <th>0</th>\n",
       "      <th>1</th>\n",
       "    </tr>\n",
       "    <tr>\n",
       "      <th>True</th>\n",
       "      <th></th>\n",
       "      <th></th>\n",
       "    </tr>\n",
       "  </thead>\n",
       "  <tbody>\n",
       "    <tr>\n",
       "      <th>0</th>\n",
       "      <td>155</td>\n",
       "      <td>0</td>\n",
       "    </tr>\n",
       "    <tr>\n",
       "      <th>1</th>\n",
       "      <td>25</td>\n",
       "      <td>0</td>\n",
       "    </tr>\n",
       "  </tbody>\n",
       "</table>\n",
       "</div>"
      ],
      "text/plain": [
       "Predicted    0  1\n",
       "True             \n",
       "0          155  0\n",
       "1           25  0"
      ]
     },
     "execution_count": 155,
     "metadata": {},
     "output_type": "execute_result"
    }
   ],
   "source": [
    "# TODO: call print(calc_confusion_matrix_for_threshold(...))\n",
    "test_set_size = y_test.size\n",
    "always0_clssifer = [0.0 for i in range(test_set_size)]\n",
    "always0_clssifer_nparray = np.array(always0_clssifer)\n",
    "calc_confusion_matrix_for_threshold(y_test, always0_clssifer_nparray)\n",
    "\n"
   ]
  },
  {
   "cell_type": "markdown",
   "metadata": {},
   "source": [
    "#### (c) Reflect on the accuracy of the always-0 classifier.\n",
    "\n",
    "**Answer**: \n",
    ">As you could see, the accurary rate is pretty high, which is around $ 0.86\\% $ (i.e. $\\frac{155}{155+25}$).\n",
    ">\n",
    ">Probably the only pro about this always-0 classifer is simple and superfacial \"high accuracy rate\". \n",
    ">\n",
    ">However, it has a lot of cons. It doesn't make any sense since it basically doesn't do any actual prediction. And sometimes we're more caring about the false positive and false negative. e.g. In medical situation, we don't want to miss any positve cases. Even though the false positive would increase as the result of reducing false negative, we can take some actions (e.g. second examination) to offset that.  \n",
    ">\n",
    ">In this task, because we're caring about picking out those who have a high change to get cancer, we do want get a lower false negative rate. But this always-0 classifer doesn't meet this requirement, so we won't just use it.\n"
   ]
  },
  {
   "cell_type": "markdown",
   "metadata": {},
   "source": [
    "#### (d) Analyze the various costs of using the always-0 classifier.\n",
    "\n",
    "\n",
    "**Answer**: \n",
    "> One type of error about this always-0 classifer is that it could potentially not pick out those with a higher probability to get cancer. The result is very serious. Imagine a doctor tells a patient that he is good but actually not, and this would probably cause the patient to miss the best timing for the treatment, which will cost a lot of money and even \"killing\" a life later on.\n",
    ">\n",
    ">Thus, I would not recommend using this classifier."
   ]
  },
  {
   "cell_type": "markdown",
   "metadata": {},
   "source": [
    "### 4: Basic Perceptron Models\n",
    "\n",
    "#### (a) Create a basic `Perceptron` classifier\n",
    "\n",
    "Fit a perceptron to the training data.  Print out accuracy on this data, as well as on testing data.  Print out a confusion matrix on the testing data."
   ]
  },
  {
   "cell_type": "code",
   "execution_count": 156,
   "metadata": {},
   "outputs": [
    {
     "name": "stdout",
     "output_type": "stream",
     "text": [
      "acc on TRAIN: 0.402\n",
      "acc on TEST : 0.567\n",
      "\n",
      "Predicted   0   1\n",
      "True             \n",
      "0          77  78\n",
      "1           0  25\n"
     ]
    }
   ],
   "source": [
    "from sklearn.linear_model import Perceptron \n",
    "from sklearn.metrics import accuracy_score\n",
    "from sklearn.preprocessing import MinMaxScaler\n",
    "\n",
    "slr = MinMaxScaler()\n",
    "\n",
    "new_x_train = slr.fit_transform(x_train)\n",
    "new_x_test = slr.fit_transform(x_test)\n",
    "ppn = Perceptron()\n",
    "# print(ppn.score(new_x_train, y_train))\n",
    "ppn.fit(new_x_train, y_train)\n",
    "\n",
    "\n",
    "y_train_pred = ppn.predict(new_x_train)\n",
    "y_test_pred = ppn.predict(new_x_test)\n",
    "\n",
    "# print(y_train_pred)\n",
    "# print(ppn.decision_function(new_x_train))\n",
    "\n",
    "\n",
    "train_acc = accuracy_score(y_train, y_train_pred)\n",
    "test_acc = accuracy_score(y_test, y_test_pred)\n",
    "# print(\"train_acc: \", train_acc)\n",
    "# print(\"test_acc\", test_acc)\n",
    "print(\"acc on TRAIN: %.3f\" % train_acc) #TODO: modify these values\n",
    "print(\"acc on TEST : %.3f\" % test_acc)\n",
    "# TODO: call print(calc_confusion_matrix_for_threshold(...))\n",
    "print(\"\")\n",
    "print(calc_confusion_matrix_for_threshold(y_test, y_test_pred))"
   ]
  },
  {
   "cell_type": "markdown",
   "metadata": {},
   "source": [
    "#### (b) Compare the `Perceptron` to the always-0 classifier.\n",
    "\n",
    "**Answer**: \n",
    "> Although it seems that perceptron performs worse than always-0 classifier at the first glance if we only focus on pure accuracy rate.\n",
    ">\n",
    ">However, it actually did a better job. \n",
    ">\n",
    ">First, Perceptron actually did some prediction work rather than always giving a same feedback everytime no matter what the input is (i.e. like always-0 classifier)\n",
    ">\n",
    ">Second, since in this context (i.e. about picking out cancer among people), we're more caring about false negative (i.e. we prefer a low value cuz we don't want to miss out someone who has a high change to have cancer). And perceptron has a 0 flase negative rate, which is pretty good compared to always-0 classifier. Even though its false positive rate is higher, we can always offset that by doing a second examination. \n"
   ]
  },
  {
   "cell_type": "markdown",
   "metadata": {},
   "source": [
    "#### (c) Generate a series of regularized perceptron models\n",
    "Each model will use a different `alpha` value, multiplying that by the L2 penalty.  You will record and plot the accuracy of each model on both training and test data."
   ]
  },
  {
   "cell_type": "code",
   "execution_count": 157,
   "metadata": {},
   "outputs": [],
   "source": [
    "train_accuracy_list = list()\n",
    "test_accuracy_list = list()\n",
    "\n",
    "# TODO: create, fit models here and record accuracy of each\n",
    "alphas = np.logspace(-5, 5, base=10, num=100)\n",
    "for cur_alpha in alphas:\n",
    "    ppn = Perceptron(penalty='l2', alpha=cur_alpha)\n",
    "    ppn.fit(new_x_train, y_train)\n",
    "    train_accuracy_list.append(ppn.score(new_x_train, y_train))\n",
    "    test_accuracy_list.append(ppn.score(new_x_test, y_test))\n",
    "\n"
   ]
  },
  {
   "cell_type": "markdown",
   "metadata": {},
   "source": [
    "##### Plot accuracy on train/test data across the different alpha values."
   ]
  },
  {
   "cell_type": "code",
   "execution_count": 158,
   "metadata": {},
   "outputs": [
    {
     "data": {
      "image/png": "[encoded data removed]",
      "text/plain": [
       "<Figure size 800x550 with 1 Axes>"
      ]
     },
     "metadata": {},
     "output_type": "display_data"
    }
   ],
   "source": [
    "# # TODO make plot\n",
    "# plt.xlabel('log_10(alpha)');\n",
    "# plt.ylabel('Accuracy');\n",
    "\n",
    "# TODO add legend, titles, etc.\n",
    "# plt.legend(...);\n",
    "fig_q4, ax_q4 = plt.subplots(layout = \"constrained\")\n",
    "ax_q4.plot(alphas, train_accuracy_list, linewidth=1.5, color='blue',label='train_acc')\n",
    "ax_q4.plot(alphas, test_accuracy_list, linewidth=1.5, color='orange', linestyle='--', label='test_acc')\n",
    "ax_q4.legend()\n",
    "ax_q4.set_xlabel(\"Alphas\")\n",
    "ax_q4.set_ylabel(\"Accuracy\")\n",
    "ax_q4.set_title(\"Accuracy on train/test data across diff alpha values\")\n",
    "ax_q4.set_xscale('log')\n"
   ]
  },
  {
   "cell_type": "markdown",
   "metadata": {},
   "source": [
    "#### (d) Discuss what the plot is showing you.\n",
    "\n",
    "**Answer**: \n",
    ">The plot shows that before alpha equals $10^{-2}$, there's a huge oscillation on accuracy; after alpha equals $10^{-2}$, the accuracy tends to become stable. However, regularization seems to be little use in terms for improving the best accuracy performance.\n",
    ">\n",
    ">This is quite different from the regularization we saw in hw2, where the alpha had a global optimal. And also, here we saw that the testing accuracy is better than training accuracy for relatively large domain, which is also different that what we saw in HW2 (i.e. training performance is always better than testing performance in HW2).\n",
    ">\n",
    "> The major reason for this difference is the model type, in HW2 we built a regression model while here we're building a classifier. There're also other reasons like loss measure and domain dimension. For loss measure, in HW2 we use mean squared error, while here we use perception loss, and y axis is accuracy instead of Avg MSE in hw2. \n",
    "For domain dimension, HW2 the input only has 1 feature, here we have 3 features, and we also resaled them.\n",
    ">\n",
    ">And these probably cause the plots having the different manifestations."
   ]
  },
  {
   "cell_type": "markdown",
   "metadata": {},
   "source": [
    "### 5: Decision functions and probabilistic predictions\n",
    "\n",
    "#### (a) Create two new sets of predictions\n",
    "\n",
    "Fit `Perceptron` and `CalibratedClassifierCV` models to the data.  Use their predictions to generate ROC curves. "
   ]
  },
  {
   "cell_type": "code",
   "execution_count": 159,
   "metadata": {},
   "outputs": [],
   "source": [
    "# TODO: fit a Perceptron and generate its decision_function() over the test data.\n",
    "ppn = Perceptron()\n",
    "ppn.fit(new_x_train, y_train)\n",
    "confid_scores_y_test = ppn.decision_function(new_x_test)\n",
    "# TODO: Build a CalibratedClassifierCV, using a Perceptron as its base_estimator, \n",
    "#       and generate its probabilistic predictions over the test data.\n",
    "\n",
    "from sklearn.calibration import CalibratedClassifierCV\n",
    "\n",
    "ppn = Perceptron()\n",
    "cccv = CalibratedClassifierCV(ppn, method='isotonic')\n",
    "cccv.fit(new_x_train, y_train)\n",
    "\n",
    "prob_y_test = cccv.predict_proba(new_x_test)\n"
   ]
  },
  {
   "cell_type": "code",
   "execution_count": 160,
   "metadata": {},
   "outputs": [
    {
     "data": {
      "text/plain": [
       "<matplotlib.legend.Legend at 0x175156a60>"
      ]
     },
     "execution_count": 160,
     "metadata": {},
     "output_type": "execute_result"
    },
    {
     "data": {
      "image/png": "[encoded data removed]",
      "text/plain": [
       "<Figure size 800x550 with 1 Axes>"
      ]
     },
     "metadata": {},
     "output_type": "display_data"
    }
   ],
   "source": [
    "# TODO something like: fpr, tpr, thr = sklearn.metrics.roc_curve(...)\n",
    "from sklearn.metrics import roc_curve, roc_auc_score\n",
    "\n",
    "\n",
    "probs_class1_y_test = prob_y_test[:, 1]\n",
    "\n",
    "auroc_ppn = roc_auc_score(y_test, confid_scores_y_test)\n",
    "auroc_cccv = roc_auc_score(y_test, probs_class1_y_test)\n",
    "\n",
    "fpr_ppn, tpr_ppn, thresh_ppn = roc_curve(y_test, confid_scores_y_test)\n",
    "fpr_cccv, tpr_cccv, thresh_cccv = roc_curve(y_test, probs_class1_y_test)\n",
    "plt.plot(fpr_ppn, tpr_ppn, marker=\".\", color=\"blue\", label=\"Perceptron's decision_function\")\n",
    "plt.plot(fpr_cccv, tpr_cccv, marker=\"+\", color=\"red\",label=\"CCCV's predict_proba\")\n",
    "\n",
    "plt.ylim([0, 1]);\n",
    "plt.xlabel(\"False Postive rate (FPR)\");\n",
    "plt.ylabel(\"True Postive rate (TPR)\");\n",
    "plt.title(\"ROC curves on Perceptron and CalibratedClassifierCV\")\n",
    "plt.legend()\n"
   ]
  },
  {
   "cell_type": "code",
   "execution_count": 161,
   "metadata": {},
   "outputs": [
    {
     "name": "stdout",
     "output_type": "stream",
     "text": [
      "AUC on TEST for Perceptron: 0.889\n",
      "AUC on TEST for probabilistic model: 0.882\n"
     ]
    }
   ],
   "source": [
    "print(\"AUC on TEST for Perceptron: %.3f\" % auroc_ppn) #TODO: modify these values\n",
    "print(\"AUC on TEST for probabilistic model: %.3f\" % auroc_cccv)"
   ]
  },
  {
   "cell_type": "markdown",
   "metadata": {},
   "source": [
    "#### (b) Discuss the results above\n",
    "\n",
    "**Answer**: \n",
    ">The ROC curves of two models are very similiar in general, which could be shown from both the shape of the graphs and AUC values (i.e. one is 0.889 and the other is 0.882)  \n",
    ">\n",
    ">Based on our tolerence with false positive rate, we could choose one over the other.  \n",
    ">\n",
    ">Personally, we would choose Perceptron for two reasons. Firstly it has a higher AUC value, which generally means it performs better. Secondly, in this context we're careing about the cancer-risk, which is usually rare among the whole population. That decides we have have high demand on TPR and also relatively high tolerence on FPR (i.e. we want to pick out all positive cases, while we allow to mistakenly classify some negative people as positive). In the curve, you could see that Perceptron (i.e. blue curve) first reaches to TPR 1.0 with FPR around 0.48; while CCCV reaches to TPR 1.0 with FPR around 0.63. This shows Perceptron is more desired cuz it could pick out all positive cases with less false positive cases. \n",
    ">\n",
    ">"
   ]
  },
  {
   "cell_type": "markdown",
   "metadata": {},
   "source": [
    "#### (c) Compute model metrics for different probabilistic thresholds\n",
    "\n",
    "Complete the function that takes in a set of correct outputs, a matching set of probabilities generated by a classifier, and a threshold at which to set the positive decision probability, and returns a set of metrics if we use that threshold."
   ]
  },
  {
   "cell_type": "code",
   "execution_count": 162,
   "metadata": {},
   "outputs": [],
   "source": [
    "def calc_perf_metrics_for_threshold(ytrue_N, yproba1_N, thresh=0.5):\n",
    "    ''' Compute performance metrics for a given probabilistic classifier and threshold\n",
    "    Args\n",
    "    ----\n",
    "    ytrue_N : 1D array of floats\n",
    "        Each entry represents the binary value (0 or 1) of 'true' label of one example\n",
    "        One entry per example in current dataset\n",
    "    yproba1_N : 1D array of floats\n",
    "        Each entry represents a probability (between 0 and 1) that correct label is positive (1)\n",
    "        One entry per example in current dataset\n",
    "        Needs to be same size as ytrue_N\n",
    "    thresh : float\n",
    "        Scalar threshold for converting probabilities into hard decisions\n",
    "        Calls an example \"positive\" if yproba1 >= thresh\n",
    "        Default value reflects a majority-classification approach (class is the one that gets\n",
    "        highest probability)\n",
    "\n",
    "    Returns\n",
    "    -------\n",
    "    acc : accuracy of predictions\n",
    "    tpr : true positive rate of predictions\n",
    "    tnr : true negative rate of predictions\n",
    "    ppv : positive predictive value of predictions\n",
    "    npv : negative predictive value of predictions\n",
    "    '''\n",
    "\n",
    "    # TODO: fix this\n",
    "    acc = 0\n",
    "    tpr = 0\n",
    "    tnr = 0\n",
    "    ppv = 0\n",
    "    npv = 0\n",
    "    \n",
    "    actual_t_predict_t = 0\n",
    "    actual_t_predict_f = 0\n",
    "    actual_f_predict_t = 0\n",
    "    actual_f_predict_f = 0\n",
    "    \n",
    "    for i in range( len(ytrue_N) ):\n",
    "        if (ytrue_N[i] == 1 and yproba1_N[i] >= thresh):\n",
    "            actual_t_predict_t += 1\n",
    "        elif (ytrue_N[i] == 1 and yproba1_N[i] < thresh):\n",
    "            actual_t_predict_f += 1\n",
    "        elif (ytrue_N[i] == 0 and yproba1_N[i] >= thresh):\n",
    "            actual_f_predict_t += 1\n",
    "        elif (ytrue_N[i] == 0 and yproba1_N[i] < thresh):\n",
    "            actual_f_predict_f += 1\n",
    "    \n",
    "    \n",
    "#     print(actual_t_predict_t)\n",
    "#     print(actual_t_predict_f)\n",
    "#     print(actual_f_predict_t)\n",
    "#     print(actual_f_predict_f)\n",
    "    \n",
    "    acc = ( actual_t_predict_t + actual_f_predict_f ) / len(ytrue_N)\n",
    "    tpr = 0 if (actual_t_predict_t + actual_t_predict_f) == 0 else actual_t_predict_t  / (actual_t_predict_t + actual_t_predict_f)\n",
    "    tnr = 0 if (actual_f_predict_f + actual_f_predict_t) == 0 else actual_f_predict_f / (actual_f_predict_f + actual_f_predict_t)\n",
    "    ppv = 0 if (actual_t_predict_t + actual_f_predict_t) == 0 else actual_t_predict_t / (actual_t_predict_t + actual_f_predict_t)\n",
    "    npv = 0 if (actual_f_predict_f + actual_t_predict_f) == 0 else actual_f_predict_f / (actual_f_predict_f + actual_t_predict_f)\n",
    "            \n",
    "    return acc, tpr, tnr, ppv, npv\n",
    "\n",
    "# You can use this function later to make printing results easier; don't change it.\n",
    "def print_perf_metrics_for_threshold(ytrue_N, yproba1_N, thresh=0.5):\n",
    "    ''' Pretty print perf. metrics for a given probabilistic classifier and threshold\n",
    "    '''\n",
    "    acc, tpr, tnr, ppv, npv = calc_perf_metrics_for_threshold(ytrue_N, yproba1_N, thresh)\n",
    "    \n",
    "    ## Pretty print the results\n",
    "    print(\"%.3f ACC\" % acc)\n",
    "    print(\"%.3f TPR\" % tpr)\n",
    "    print(\"%.3f TNR\" % tnr)\n",
    "    print(\"%.3f PPV\" % ppv)\n",
    "    print(\"%.3f NPV\" % npv)\n",
    "    \n",
    "# print_perf_metrics_for_threshold(y_test, probs_class1_y_test)"
   ]
  },
  {
   "cell_type": "markdown",
   "metadata": {},
   "source": [
    "#### (d) Compare the probabilistic classifier across multiple decision thresholds\n",
    "\n",
    "Try a range of thresholds for classifying data into the positive class (1).  For each threshold, compute the true postive rate (TPR) and positive predictive value (PPV).  Record the best value of each metric, along with the threshold that achieves it, and the *other* metric at that threshold."
   ]
  },
  {
   "cell_type": "code",
   "execution_count": 163,
   "metadata": {},
   "outputs": [],
   "source": [
    "# TODO: test different thresholds to compute these values\n",
    "thresholds = np.linspace(0, 1.001, 51)\n",
    "# print(thresholds)\n",
    "\n",
    "    \n",
    "best_TPR = 0\n",
    "best_PPV_for_best_TPR = 0\n",
    "best_TPR_threshold = 0\n",
    "\n",
    "best_PPV = 0\n",
    "best_TPR_for_best_PPV = 0  \n",
    "best_PPV_threshold = 0\n",
    "\n",
    "for threshold in thresholds:\n",
    "    cur_acc, cur_tpr, cur_tnr, cur_ppv, cur_npv = calc_perf_metrics_for_threshold(y_test, probs_class1_y_test, threshold)\n",
    "    if ( cur_tpr > best_TPR ):\n",
    "        best_TPR = cur_tpr\n",
    "        best_PPV_for_best_TPR = cur_ppv\n",
    "        best_TPR_threshold = threshold\n",
    "    elif ( cur_tpr == best_TPR ):\n",
    "        if ( cur_ppv > best_PPV_for_best_TPR ):\n",
    "            best_TRP = cur_tpr\n",
    "            best_PPV_for_best_TPR = cur_ppv\n",
    "            best_TPR_threshold = threshold\n",
    "\n",
    "    if ( cur_ppv > best_PPV ):\n",
    "        best_PPV = cur_ppv\n",
    "        best_TPR_for_best_PPV = cur_tpr\n",
    "        best_PPV_threshold = threshold\n",
    "    elif ( cur_ppv == best_PPV ):\n",
    "        if ( cur_tpr > best_TPR_for_best_PPV ):\n",
    "            best_PPV = cur_ppv\n",
    "            best_TPR_for_best_PPV = cur_tpr\n",
    "            best_PPV_threshold = threshold"
   ]
  },
  {
   "cell_type": "code",
   "execution_count": 164,
   "metadata": {},
   "outputs": [
    {
     "name": "stdout",
     "output_type": "stream",
     "text": [
      "we're examing different threshold for CCCV (using Perceptron as its base classifier)\n",
      "TPR threshold: 0.0200 => TPR: 1.0000; PPV: 0.1984\n",
      "PPV threshold: 0.6206 => PPV: 1.0000; TPR: 0.3200\n"
     ]
    }
   ],
   "source": [
    "print(\"we're examing different threshold for CCCV (using Perceptron as its base classifier)\")\n",
    "print(\"TPR threshold: %.4f => TPR: %.4f; PPV: %.4f\" % (best_TPR_threshold, best_TPR, best_PPV_for_best_TPR))\n",
    "print(\"PPV threshold: %.4f => PPV: %.4f; TPR: %.4f\" % (best_PPV_threshold, best_PPV, best_TPR_for_best_PPV))"
   ]
  },
  {
   "cell_type": "markdown",
   "metadata": {},
   "source": [
    "#### (e) Exploring diffrerent thresholds\n",
    "\n",
    "#### (i) Using default 0.5 threshold. \n",
    "\n",
    "Generate confusion matrix and metrics for probabilistic classifier, using threshold 0.5."
   ]
  },
  {
   "cell_type": "code",
   "execution_count": 165,
   "metadata": {},
   "outputs": [
    {
     "name": "stdout",
     "output_type": "stream",
     "text": [
      "ON THE TEST SET:\n",
      "Chosen best threshold = 0.5000\n",
      "\n",
      "Predicted    0   1\n",
      "True              \n",
      "0          148   7\n",
      "1           14  11\n",
      "\n",
      "0.883 ACC\n",
      "0.440 TPR\n",
      "0.955 TNR\n",
      "0.611 PPV\n",
      "0.914 NPV\n"
     ]
    }
   ],
   "source": [
    "best_thr = 0.5\n",
    "print(\"ON THE TEST SET:\")\n",
    "print(\"Chosen best threshold = %.4f\" % best_thr)\n",
    "print(\"\")\n",
    "# TODO: print(calc_confusion_matrix_for_threshold(...))\n",
    "print(calc_confusion_matrix_for_threshold(y_test, probs_class1_y_test, best_thr))\n",
    "print(\"\")\n",
    "# TODO: print_perf_metrics_for_threshold(...)\n",
    "print_perf_metrics_for_threshold(y_test, probs_class1_y_test, best_thr)"
   ]
  },
  {
   "cell_type": "markdown",
   "metadata": {},
   "source": [
    "#### (ii) Using threshold with highest TPR. \n",
    "\n",
    "Generate confusion matrix and metrics for probabilistic classifier, using threshold that maximizes TPR."
   ]
  },
  {
   "cell_type": "code",
   "execution_count": 166,
   "metadata": {},
   "outputs": [
    {
     "name": "stdout",
     "output_type": "stream",
     "text": [
      "ON THE TEST SET:\n",
      "Chosen best threshold = 0.0200\n",
      "\n",
      "Predicted   0    1\n",
      "True              \n",
      "0          54  101\n",
      "1           0   25\n",
      "\n",
      "0.439 ACC\n",
      "1.000 TPR\n",
      "0.348 TNR\n",
      "0.198 PPV\n",
      "1.000 NPV\n"
     ]
    }
   ],
   "source": [
    "best_thr = best_TPR_threshold\n",
    "print(\"ON THE TEST SET:\")\n",
    "print(\"Chosen best threshold = %.4f\" % best_thr)\n",
    "print(\"\")\n",
    "# TODO: print(calc_confusion_matrix_for_threshold(...))\n",
    "print(calc_confusion_matrix_for_threshold(y_test, probs_class1_y_test, best_thr))\n",
    "print(\"\")\n",
    "# TODO: print_perf_metrics_for_threshold(...)\n",
    "print_perf_metrics_for_threshold(y_test, probs_class1_y_test, best_thr)"
   ]
  },
  {
   "cell_type": "markdown",
   "metadata": {},
   "source": [
    "#### (iii) Using threshold with highest PPV. \n",
    "\n",
    "Generate confusion matrix and metrics for probabilistic classifier, using threshold that maximizes PPV."
   ]
  },
  {
   "cell_type": "code",
   "execution_count": 167,
   "metadata": {},
   "outputs": [
    {
     "name": "stdout",
     "output_type": "stream",
     "text": [
      "ON THE TEST SET:\n",
      "Chosen best threshold = 0.6206\n",
      "\n",
      "Predicted    0  1\n",
      "True             \n",
      "0          155  0\n",
      "1           17  8\n",
      "\n",
      "0.906 ACC\n",
      "0.320 TPR\n",
      "1.000 TNR\n",
      "1.000 PPV\n",
      "0.901 NPV\n"
     ]
    }
   ],
   "source": [
    "best_thr = best_PPV_threshold\n",
    "print(\"ON THE TEST SET:\")\n",
    "print(\"Chosen best threshold = %.4f\" % best_thr)\n",
    "print(\"\")\n",
    "# TODO: print(calc_confusion_matrix_for_threshold(...))\n",
    "print(calc_confusion_matrix_for_threshold(y_test, probs_class1_y_test, best_thr))\n",
    "\n",
    "print(\"\")\n",
    "# TODO: print_perf_metrics_for_threshold(...)\n",
    "print_perf_metrics_for_threshold(y_test, probs_class1_y_test, best_thr)"
   ]
  },
  {
   "cell_type": "markdown",
   "metadata": {},
   "source": [
    "#### (iv) Compare the confusion matrices from (a)–(c) to analyze the different thresholds.\n",
    "\n",
    "**Answer**: \n",
    "> The three thresholds give us quite difference results.  \n",
    ">\n",
    "> Threshold 0.50 gives us a relatively \"mild\" result, where both classes have some samples that are wrongly classified (i.e. false positive and false negtive); Threshold 0.62 reaches to the highest acc rate and the best PPV, but at the expense of missing out the actual positive cases (i.e. it only picked out 8 out of 25 positive cases, which is the worst among the three thresholds); Threshold 0.02 has the best TPR result but it also generates the most false positive rate.\n",
    "> \n",
    "> In this contest, I'd prefer the threshold 0.02. Since we're talking about cancer risk here, which is a very serious medical situation, and we don't want to miss any positive cases. Even though it has increased # of false positive cases, we could always use some methods (e.g. a second examination) to offset that.\n",
    ">"
   ]
  }
 ],
 "metadata": {
  "kernelspec": {
   "display_name": "Python 3 (ipykernel)",
   "language": "python",
   "name": "python3"
  },
  "language_info": {
   "codemirror_mode": {
    "name": "ipython",
    "version": 3
   },
   "file_extension": ".py",
   "mimetype": "text/x-python",
   "name": "python",
   "nbconvert_exporter": "python",
   "pygments_lexer": "ipython3",
   "version": "3.9.13"
  }
 },
 "nbformat": 4,
 "nbformat_minor": 2
}
